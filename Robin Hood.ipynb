{
 "cells": [
  {
   "cell_type": "code",
   "execution_count": 1,
   "metadata": {},
   "outputs": [],
   "source": [
    "#Main Tasks"
   ]
  },
  {
   "cell_type": "code",
   "execution_count": 2,
   "metadata": {},
   "outputs": [],
   "source": [
    "points = [(4, 5), (-0, 2), (4, 7), (1, -3), (3, -2), (4, 5), (3, 2), (5, 7), (-5, 7), (2, 2), (-4, 5), (0, -2),\n",
    "          (-4, 7), (-1, 3), (-3, 2), (-4, -5), (-3, 2), (5, 7), (5, 7), (2, 2), (9, 9), (-8, -9)]"
   ]
  },
  {
   "cell_type": "code",
   "execution_count": 3,
   "metadata": {},
   "outputs": [
    {
     "name": "stdout",
     "output_type": "stream",
     "text": [
      "The coordinates where one arrow hit another are [(4, 5), (-3, 2), (5, 7), (5, 7), (2, 2)]\n"
     ]
    }
   ],
   "source": [
    "unique_points = []\n",
    "repeated_points = []\n",
    "for i in points:\n",
    "    if i not in unique_points:\n",
    "        unique_points.append(i)\n",
    "    else:\n",
    "        repeated_points.append(i)\n",
    "print(f'The coordinates where one arrow hit another are {repeated_points}')"
   ]
  },
  {
   "cell_type": "code",
   "execution_count": 4,
   "metadata": {},
   "outputs": [
    {
     "name": "stdout",
     "output_type": "stream",
     "text": [
      "There arrows are distributed as follows:\n",
      "Q1: 11\n",
      "Q2: 7\n",
      "Q3: 6\n",
      "Q4: 0\n"
     ]
    }
   ],
   "source": [
    "Q1 = []\n",
    "Q2 = []\n",
    "Q3 = []\n",
    "Q4 = []\n",
    "for (a,b) in points:\n",
    "    if a>=0 and b>=0:\n",
    "        Q1.append((a,b))\n",
    "    if a<=0 and b>=0:\n",
    "        Q2.append((a,b))\n",
    "    if a<=0 and b<=0:\n",
    "        Q3.append((a,b))\n",
    "    if a>=0 and b<=0:\n",
    "        Q3.append((a,b))\n",
    "print('There arrows are distributed as follows:')\n",
    "print(f'Q1: {len(Q1)}')\n",
    "print(f'Q2: {len(Q2)}')\n",
    "print(f'Q3: {len(Q3)}')\n",
    "print(f'Q4: {len(Q4)}')"
   ]
  },
  {
   "cell_type": "code",
   "execution_count": 5,
   "metadata": {},
   "outputs": [
    {
     "name": "stdout",
     "output_type": "stream",
     "text": [
      "The arrows closest to the center are at: [(0, 2), (0, -2)]\n"
     ]
    }
   ],
   "source": [
    "from numpy import sqrt\n",
    "\n",
    "def distance(a,b):\n",
    "    return sqrt(a**2 + b**2)\n",
    "\n",
    "distances = []\n",
    "\n",
    "for (a,b) in points:\n",
    "    distances.append(distance(a,b))\n",
    "closest_arrows = []\n",
    "\n",
    "for i in range(len(distances)):\n",
    "    if distances[i] == min(distances):\n",
    "        closest_arrows.append(points[i])\n",
    "\n",
    "print(f'The arrows closest to the center are at: {closest_arrows}')"
   ]
  },
  {
   "cell_type": "code",
   "execution_count": 6,
   "metadata": {},
   "outputs": [
    {
     "name": "stdout",
     "output_type": "stream",
     "text": [
      "Robin Hood missed the target 2 times\n"
     ]
    }
   ],
   "source": [
    "missed_arrows = 0\n",
    "for i in range(len(distances)):\n",
    "    if distances[i] > 9:\n",
    "        missed_arrows += 1\n",
    "print(f'Robin Hood missed the target {missed_arrows} times')"
   ]
  },
  {
   "cell_type": "code",
   "execution_count": null,
   "metadata": {},
   "outputs": [],
   "source": []
  }
 ],
 "metadata": {
  "kernelspec": {
   "display_name": "Python 3",
   "language": "python",
   "name": "python3"
  },
  "language_info": {
   "codemirror_mode": {
    "name": "ipython",
    "version": 3
   },
   "file_extension": ".py",
   "mimetype": "text/x-python",
   "name": "python",
   "nbconvert_exporter": "python",
   "pygments_lexer": "ipython3",
   "version": "3.7.6"
  }
 },
 "nbformat": 4,
 "nbformat_minor": 4
}
