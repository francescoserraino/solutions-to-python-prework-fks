{
 "cells": [
  {
   "cell_type": "code",
   "execution_count": 1,
   "metadata": {},
   "outputs": [],
   "source": [
    "#Main Tasks"
   ]
  },
  {
   "cell_type": "code",
   "execution_count": 2,
   "metadata": {},
   "outputs": [],
   "source": [
    "temperatures_C = [33, 66, 65, 0, 59, 60, 62, 64, 70, 76, 80, 81, 80, 83, 90, 79, 61, 53, 50, 49, 53, 48, 45, 39]"
   ]
  },
  {
   "cell_type": "code",
   "execution_count": 3,
   "metadata": {},
   "outputs": [
    {
     "name": "stdout",
     "output_type": "stream",
     "text": [
      "0\n"
     ]
    }
   ],
   "source": [
    "min_temp_C = min(temperatures_C)\n",
    "print(min_temp_C)"
   ]
  },
  {
   "cell_type": "code",
   "execution_count": 4,
   "metadata": {},
   "outputs": [
    {
     "name": "stdout",
     "output_type": "stream",
     "text": [
      "90\n"
     ]
    }
   ],
   "source": [
    "max_temp_C = max(temperatures_C)\n",
    "print(max_temp_C)"
   ]
  },
  {
   "cell_type": "code",
   "execution_count": 5,
   "metadata": {},
   "outputs": [
    {
     "name": "stdout",
     "output_type": "stream",
     "text": [
      "[70, 76, 80, 81, 80, 83, 90, 79]\n"
     ]
    }
   ],
   "source": [
    "greater_than_70_C = []\n",
    "for i in temperatures_C:\n",
    "    if i >= 70:\n",
    "        greater_than_70_C.append(i)\n",
    "print(greater_than_70_C)"
   ]
  },
  {
   "cell_type": "code",
   "execution_count": 6,
   "metadata": {},
   "outputs": [
    {
     "name": "stdout",
     "output_type": "stream",
     "text": [
      "60.25\n"
     ]
    }
   ],
   "source": [
    "from numpy import mean\n",
    "av_temp_C = mean(temperatures_C)\n",
    "print(av_temp_C)"
   ]
  },
  {
   "cell_type": "code",
   "execution_count": 7,
   "metadata": {},
   "outputs": [
    {
     "name": "stdout",
     "output_type": "stream",
     "text": [
      "[33, 66, 65, 60.25, 59, 60, 62, 64, 70, 76, 80, 81, 80, 83, 90, 79, 61, 53, 50, 49, 53, 48, 45, 39]\n"
     ]
    }
   ],
   "source": [
    "temperatures_C.remove(temperatures_C[3])\n",
    "temperatures_C.insert(3,av_temp_C)\n",
    "print(temperatures_C)"
   ]
  },
  {
   "cell_type": "code",
   "execution_count": 8,
   "metadata": {},
   "outputs": [],
   "source": [
    "def celcius_to_farenheit(x):\n",
    "    return 1.8*x + 32\n",
    "\n",
    "temperatures_F = []\n",
    "\n",
    "for i in range(len(temperatures_C)):\n",
    "    temperatures_F.append(celcius_to_farenheit(temperatures_C[i]))"
   ]
  },
  {
   "cell_type": "code",
   "execution_count": 9,
   "metadata": {},
   "outputs": [
    {
     "name": "stdout",
     "output_type": "stream",
     "text": [
      "The cooling system needs to be replaced\n"
     ]
    }
   ],
   "source": [
    "if av_temp_C > 65 or max_temp_C > 80 or len(greater_than_70_C) > 4:\n",
    "    print('The cooling system needs to be replaced')\n",
    "else:\n",
    "    print('The cooling system is fully functional')"
   ]
  },
  {
   "cell_type": "code",
   "execution_count": 10,
   "metadata": {},
   "outputs": [],
   "source": [
    "#Bonus 1"
   ]
  },
  {
   "cell_type": "code",
   "execution_count": 11,
   "metadata": {},
   "outputs": [
    {
     "name": "stdout",
     "output_type": "stream",
     "text": [
      "[8, 9, 10, 11, 12, 13, 14, 15]\n"
     ]
    }
   ],
   "source": [
    "hours_greater_than_70_C = []\n",
    "for i in range(len(temperatures_C)):\n",
    "    if temperatures_C[i] >= 70:\n",
    "        hours_greater_than_70_C.append(i)\n",
    "print(hours_greater_than_70_C)"
   ]
  },
  {
   "cell_type": "code",
   "execution_count": 12,
   "metadata": {},
   "outputs": [
    {
     "name": "stdout",
     "output_type": "stream",
     "text": [
      "The temperature is consecutively above 70C for a maximum of 8 hours\n"
     ]
    }
   ],
   "source": [
    "streaks = []\n",
    "count = 0\n",
    "hours_greater_than_70_C.append(0)\n",
    "for i in range(len(hours_greater_than_70_C)-1):\n",
    "    if hours_greater_than_70_C[i+1] ==  hours_greater_than_70_C[i]+1:\n",
    "        count += 1\n",
    "    else:\n",
    "        streaks.append(count+1)\n",
    "        count = 0\n",
    "if max(streaks) > 4:\n",
    "    print(f'The temperature is consecutively above 70C for a maximum of {max(streaks)} hours')\n",
    "else:\n",
    "    print('At no point is the temperature above 70C for more than 4 consecutive hours')"
   ]
  },
  {
   "cell_type": "code",
   "execution_count": 13,
   "metadata": {
    "scrolled": true
   },
   "outputs": [
    {
     "name": "stdout",
     "output_type": "stream",
     "text": [
      "The cooling system needs to be replaced\n"
     ]
    }
   ],
   "source": [
    "if av_temp_C > 65 or max_temp_C > 80 or max(streaks) > 4:\n",
    "    print('The cooling system needs to be replaced')\n",
    "else:\n",
    "    print('The cooling system is fully functional')"
   ]
  },
  {
   "cell_type": "code",
   "execution_count": 14,
   "metadata": {
    "scrolled": true
   },
   "outputs": [
    {
     "name": "stdout",
     "output_type": "stream",
     "text": [
      "Average temperature in celcius is 60.25 and in farenheit is 144.96875\n",
      "Here the two average temperatures do not relate by the conversion formula, the celcius average corresponds to a farenheit temperature of 140.45 which is slighty lower than the one calculated thrugh farenheight. This is due to the fact that when calculating the average of the farenheit temperatures we used the estimate(mean) for the error value at index 3. We would expect this to raise the overall average.\n"
     ]
    }
   ],
   "source": [
    "av_temp_F = mean(temperatures_F)\n",
    "print(f'Average temperature in celcius is {av_temp_C} and in farenheit is {av_temp_F}')\n",
    "print(f'Here the two average temperatures do not relate by the conversion formula, the celcius average corresponds to a farenheit temperature of {celcius_to_farenheit(av_temp_C)} which is slighty lower than the one calculated thrugh farenheight. This is due to the fact that when calculating the average of the farenheit temperatures we used the estimate(mean) for the error value at index 3. We would expect this to raise the overall average.')"
   ]
  },
  {
   "cell_type": "code",
   "execution_count": 15,
   "metadata": {},
   "outputs": [
    {
     "name": "stdout",
     "output_type": "stream",
     "text": [
      "The standard deviation of the temperature in celcius is 14.641813548637188 and in farenheit is 26.35526438754694\n",
      "Here the two standard deviations do not relate by the conversion formula, the celcius standard deviation corresponds to a farenheit temperature of 58.35526438754694, this is also due to the reason explained for the discrepancy in the averages\n"
     ]
    }
   ],
   "source": [
    "from numpy import std\n",
    "std_temp_F = std(temperatures_F)\n",
    "std_temp_C = std(temperatures_C)\n",
    "print(f'The standard deviation of the temperature in celcius is {std_temp_C} and in farenheit is {std_temp_F}')\n",
    "print(f'Here the two standard deviations do not relate by the conversion formula, the celcius standard deviation corresponds to a farenheit temperature of {celcius_to_farenheit(std_temp_C)}, this is also due to the reason explained for the discrepancy in the averages') "
   ]
  },
  {
   "cell_type": "code",
   "execution_count": null,
   "metadata": {},
   "outputs": [],
   "source": []
  }
 ],
 "metadata": {
  "kernelspec": {
   "display_name": "Python 3",
   "language": "python",
   "name": "python3"
  },
  "language_info": {
   "codemirror_mode": {
    "name": "ipython",
    "version": 3
   },
   "file_extension": ".py",
   "mimetype": "text/x-python",
   "name": "python",
   "nbconvert_exporter": "python",
   "pygments_lexer": "ipython3",
   "version": "3.7.6"
  }
 },
 "nbformat": 4,
 "nbformat_minor": 4
}
