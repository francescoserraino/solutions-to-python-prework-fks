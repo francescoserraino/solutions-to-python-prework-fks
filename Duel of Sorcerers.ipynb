{
 "cells": [
  {
   "cell_type": "code",
   "execution_count": 1,
   "metadata": {},
   "outputs": [],
   "source": [
    "#Main Tasks"
   ]
  },
  {
   "cell_type": "code",
   "execution_count": 2,
   "metadata": {},
   "outputs": [],
   "source": [
    "gandalf = [10, 11, 13, 30, 22, 11, 10, 33, 22, 22]\n",
    "saruman = [23, 66, 12, 43, 12, 10, 44, 23, 12, 17]\n",
    "spells = 0"
   ]
  },
  {
   "cell_type": "code",
   "execution_count": 3,
   "metadata": {},
   "outputs": [],
   "source": [
    "gandalf_wins = 0\n",
    "saruman_wins = 0"
   ]
  },
  {
   "cell_type": "code",
   "execution_count": 4,
   "metadata": {},
   "outputs": [],
   "source": [
    "for i in range(0,len(gandalf)):\n",
    "    if gandalf[i] > saruman[i]:\n",
    "        gandalf_wins += 1\n",
    "    elif gandalf[i] < saruman[i]:\n",
    "        saruman_wins += 1\n",
    "    elif gandalf[i] == saruman[i]:\n",
    "        pass\n",
    "spells += 1"
   ]
  },
  {
   "cell_type": "code",
   "execution_count": 5,
   "metadata": {},
   "outputs": [
    {
     "name": "stdout",
     "output_type": "stream",
     "text": [
      "Gandalf Wins\n"
     ]
    }
   ],
   "source": [
    "if gandalf_wins > saruman_wins:\n",
    "    print('Gandalf Wins')\n",
    "elif gandalf_wins < saruman_wins:\n",
    "    print('Saruman Wins')\n",
    "elif gandalf_wins == saruman_wins:\n",
    "    print('Tie')"
   ]
  },
  {
   "cell_type": "code",
   "execution_count": 6,
   "metadata": {},
   "outputs": [],
   "source": [
    "#Bonus 1"
   ]
  },
  {
   "cell_type": "code",
   "execution_count": 7,
   "metadata": {},
   "outputs": [],
   "source": [
    "POWER = {\n",
    "    'Fireball': 50, \n",
    "    'Lightning bolt': 40, \n",
    "    'Magic arrow': 10, \n",
    "    'Black Tentacles': 25, \n",
    "    'Contagion': 45}\n",
    "\n",
    "gandalf = ['Fireball', 'Lightning bolt', 'Lightning bolt', 'Magic arrow', 'Fireball', \n",
    "           'Magic arrow', 'Lightning bolt', 'Fireball', 'Fireball', 'Fireball']\n",
    "\n",
    "saruman = ['Contagion', 'Contagion', 'Black Tentacles', 'Fireball', 'Black Tentacles', \n",
    "           'Lightning bolt', 'Magic arrow', 'Contagion', 'Magic arrow', 'Magic arrow']\n",
    "\n",
    "spells = 0"
   ]
  },
  {
   "cell_type": "code",
   "execution_count": 8,
   "metadata": {},
   "outputs": [],
   "source": [
    "gandalf_wins = 0\n",
    "saruman_wins = 0"
   ]
  },
  {
   "cell_type": "code",
   "execution_count": 9,
   "metadata": {},
   "outputs": [],
   "source": [
    "gandalf_power = []\n",
    "saruman_power = []\n",
    "\n",
    "for spell in gandalf:\n",
    "    gandalf_power.append(POWER[spell])\n",
    "for spell in saruman:\n",
    "    saruman_power.append(POWER[spell])"
   ]
  },
  {
   "cell_type": "code",
   "execution_count": 10,
   "metadata": {},
   "outputs": [
    {
     "name": "stdout",
     "output_type": "stream",
     "text": [
      "Gandalf Wins\n"
     ]
    }
   ],
   "source": [
    "for i in range(0,len(gandalf)):\n",
    "    if gandalf_wins >= 3:\n",
    "        print('Gandalf Wins')\n",
    "        break\n",
    "    elif saruman_wins >= 3:\n",
    "        print('Saruman Wins')\n",
    "        break\n",
    "    elif gandalf_wins < 3 & saruman_wins < 3 & spells == len(gandalf_power):\n",
    "        print('Tie')\n",
    "        break\n",
    "    elif gandalf_power[i] > saruman_power[i]:\n",
    "        gandalf_wins += 1\n",
    "        saruman_wins = 0\n",
    "    elif gandalf_power[i] < saruman_power[i]:\n",
    "        saruman_wins += 1\n",
    "        gandalf_wins = 0\n",
    "    elif gandalf_power[i] == saruman_power[i]:\n",
    "        pass\n",
    "    spells += 1"
   ]
  },
  {
   "cell_type": "code",
   "execution_count": 11,
   "metadata": {},
   "outputs": [],
   "source": [
    "from numpy import mean\n",
    "from numpy import std"
   ]
  },
  {
   "cell_type": "code",
   "execution_count": 12,
   "metadata": {},
   "outputs": [
    {
     "name": "stdout",
     "output_type": "stream",
     "text": [
      "Saruman's average power is 30.5, and Gandalf's average power is 39.0\n"
     ]
    }
   ],
   "source": [
    "gandalf_average_power = mean(gandalf_power)\n",
    "saruman_average_power = mean(saruman_power)\n",
    "print(f\"Saruman's average power is {saruman_average_power}, and Gandalf's average power is {gandalf_average_power}\")"
   ]
  },
  {
   "cell_type": "code",
   "execution_count": 13,
   "metadata": {},
   "outputs": [
    {
     "name": "stdout",
     "output_type": "stream",
     "text": [
      "Saruman's power's standard deviation is 15.6, and Galndalf's power's standard deviation is 15.1 (1.dp)\n"
     ]
    }
   ],
   "source": [
    "gandalf_std = std(gandalf_power)\n",
    "saruman_std = std(saruman_power)\n",
    "print(f\"Saruman's power's standard deviation is {round(saruman_std,1)}, and Galndalf's power's standard deviation is {round(gandalf_std,1)} (1.dp)\")"
   ]
  },
  {
   "cell_type": "code",
   "execution_count": null,
   "metadata": {},
   "outputs": [],
   "source": []
  }
 ],
 "metadata": {
  "kernelspec": {
   "display_name": "Python 3",
   "language": "python",
   "name": "python3"
  },
  "language_info": {
   "codemirror_mode": {
    "name": "ipython",
    "version": 3
   },
   "file_extension": ".py",
   "mimetype": "text/x-python",
   "name": "python",
   "nbconvert_exporter": "python",
   "pygments_lexer": "ipython3",
   "version": "3.7.6"
  }
 },
 "nbformat": 4,
 "nbformat_minor": 4
}
