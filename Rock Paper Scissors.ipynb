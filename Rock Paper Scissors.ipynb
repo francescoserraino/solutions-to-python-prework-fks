{
 "cells": [
  {
   "cell_type": "code",
   "execution_count": 1,
   "metadata": {},
   "outputs": [],
   "source": [
    "#Main Tasks"
   ]
  },
  {
   "cell_type": "code",
   "execution_count": 2,
   "metadata": {},
   "outputs": [],
   "source": [
    "import random\n",
    "from random import choice"
   ]
  },
  {
   "cell_type": "code",
   "execution_count": 3,
   "metadata": {},
   "outputs": [],
   "source": [
    "gestures = ['rock', 'paper', 'scissors']"
   ]
  },
  {
   "cell_type": "code",
   "execution_count": 4,
   "metadata": {},
   "outputs": [],
   "source": [
    "n_rounds = 3"
   ]
  },
  {
   "cell_type": "code",
   "execution_count": 5,
   "metadata": {},
   "outputs": [],
   "source": [
    "rounds_to_win = (n_rounds-1)/2 +1"
   ]
  },
  {
   "cell_type": "code",
   "execution_count": 6,
   "metadata": {},
   "outputs": [],
   "source": [
    "cpu_score = 0\n",
    "player_score = 0"
   ]
  },
  {
   "cell_type": "code",
   "execution_count": 7,
   "metadata": {},
   "outputs": [],
   "source": [
    "def cpu_choicer():\n",
    "    return random.choice(gestures)"
   ]
  },
  {
   "cell_type": "code",
   "execution_count": 8,
   "metadata": {},
   "outputs": [],
   "source": [
    "def player_choicer():\n",
    "    player_choice = ''\n",
    "    while player_choice not in gestures:\n",
    "        player_choice = input('Rock, Paper or Scissors?').lower()\n",
    "    if player_choice in gestures:\n",
    "        return player_choice"
   ]
  },
  {
   "cell_type": "code",
   "execution_count": 9,
   "metadata": {},
   "outputs": [],
   "source": [
    "def win_checker():\n",
    "    if cpu_choice == player_choice:\n",
    "        return 0\n",
    "    elif (cpu_choice == 'rock' and player_choice == 'paper') or (cpu_choice == 'scissors' and player_choice == 'rock') or (cpu_choice == 'paper' and player_choice == 'scissors'):\n",
    "        return 2\n",
    "    elif (cpu_choice == 'paper' and player_choice == 'rock') or (cpu_choice == 'rock' and player_choice == 'scissors') or (cpu_choice == 'scissors' and player_choice == 'paper'):\n",
    "        return 1"
   ]
  },
  {
   "cell_type": "code",
   "execution_count": 10,
   "metadata": {},
   "outputs": [],
   "source": [
    "def win_announcer():\n",
    "    global player_score\n",
    "    global cpu_score\n",
    "    if win_check == 0:\n",
    "        print(f'You played {player_choice} and the compuer played {cpu_choice}')\n",
    "        print(\"This round is a tie\")\n",
    "    elif win_check == 2:\n",
    "        print(f'You played {player_choice} and the compuer played {cpu_choice}')\n",
    "        print(\"You win this round\")\n",
    "        player_score = player_score + 1\n",
    "    elif win_check == 1:\n",
    "        print(f'You played {player_choice} and the compuer played {cpu_choice}')\n",
    "        print(\"Computer wins this round\")\n",
    "        cpu_score = cpu_score + 1"
   ]
  },
  {
   "cell_type": "code",
   "execution_count": null,
   "metadata": {},
   "outputs": [
    {
     "name": "stdout",
     "output_type": "stream",
     "text": [
      "Welcome to Rock, Paper, Scissors\n"
     ]
    }
   ],
   "source": [
    "print('Welcome to Rock, Paper, Scissors')\n",
    "while cpu_score < rounds_to_win and player_score < rounds_to_win:\n",
    "    cpu_choice = cpu_choicer()\n",
    "    player_choice = player_choicer()\n",
    "    win_check = win_checker()\n",
    "    win_announcer()\n",
    "if player_score == rounds_to_win:\n",
    "    print('You win the game')\n",
    "elif cpu_score == rounds_to_win:\n",
    "    print('Computer wins the game')"
   ]
  },
  {
   "cell_type": "code",
   "execution_count": null,
   "metadata": {},
   "outputs": [],
   "source": []
  },
  {
   "cell_type": "code",
   "execution_count": null,
   "metadata": {},
   "outputs": [],
   "source": []
  },
  {
   "cell_type": "code",
   "execution_count": null,
   "metadata": {},
   "outputs": [],
   "source": []
  },
  {
   "cell_type": "code",
   "execution_count": null,
   "metadata": {},
   "outputs": [],
   "source": []
  },
  {
   "cell_type": "code",
   "execution_count": null,
   "metadata": {},
   "outputs": [],
   "source": []
  }
 ],
 "metadata": {
  "kernelspec": {
   "display_name": "Python 3",
   "language": "python",
   "name": "python3"
  },
  "language_info": {
   "codemirror_mode": {
    "name": "ipython",
    "version": 3
   },
   "file_extension": ".py",
   "mimetype": "text/x-python",
   "name": "python",
   "nbconvert_exporter": "python",
   "pygments_lexer": "ipython3",
   "version": "3.7.6"
  }
 },
 "nbformat": 4,
 "nbformat_minor": 4
}
